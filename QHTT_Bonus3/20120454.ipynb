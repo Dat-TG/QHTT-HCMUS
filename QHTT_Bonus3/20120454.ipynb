{
 "cells": [
  {
   "cell_type": "markdown",
   "metadata": {},
   "source": [
    "Họ tên: <b>Lê Công Đắt</b>\n",
    "\n",
    "MSSV: <b>20120454</b>\n",
    "\n",
    "## Bài tập tính điểm cộng lần 3\n",
    "\n",
    "Tìm hiểu cách dùng thư viện scipy hoặc pulp rồi giải bài toán sau đây (các nội dung lập luận, code được trình bày chung trong 1 file notebook duy nhất): \n",
    "\n",
    "Một cơ sở sản xuất có 2 loại thanh cốt thép dài 6m, 8m (số lượng không giới hạn). Cần gia công ra 100 đoạn 2,4m và 150 đoạn 2,8m. Hỏi nên cắt cốt thép thế nào để tiết kiệm nhất?"
   ]
  },
  {
   "cell_type": "markdown",
   "metadata": {},
   "source": [
    "### Lập luận\n",
    "#### Đối với loại thanh cốt thép dài 6m, ta có thể cắt theo các cách sau:\n",
    "- 2 thanh 2,4m $\\leftarrow x_1$\n",
    "- 2 thanh 2,8m $\\leftarrow x_2$\n",
    "- 1 thanh 2,4m và 1 thanh 2,8m $\\leftarrow x_3$\n",
    "#### Đối với loại thanh cốt thép dài 8m, ta có thể cắt theo các cách sau:\n",
    "- 3 thanh 2,4m $\\leftarrow x_4$ \n",
    "- 1 thanh 2,4m và 2 thanh 2,8m $\\leftarrow x_5$\n",
    "- 2 thanh 2,4m và 1 thanh 2,8m $\\leftarrow x_6$\n",
    "\n",
    "Đặt $x_1, x_2, x_3, x_4, x_5, x_6$ lần lượt là số lần ta cắt thanh thép theo 1 trong 6 cách trên\n",
    "\n",
    "Lượng cốt thép sử dụng (m): $f(x) = 6x_1+6x_2+6x_3+8x_4+8x_5+8x_6 \\rightarrow min$\n",
    "\n",
    "<!-- Lượng cốt thép bỏ đi (m): $f(x) = 1,2x_1+0,4x_2+0,8x_3+0,8x_4+0x_5+0,4x_6 -->\n",
    "\n",
    "Điều kiện: $\n",
    "\\begin{cases}\n",
    "\\quad x_1, x_2, x_3, x_4, x_5, x_6 \\in \\mathbb{N}, \\quad x_1, x_2, x_3, x_4, x_5, x_6 \\geqslant 0 \\\\\n",
    "\\quad 2x_1+x_3+3x_4+x_5+2x_6 \\geqslant 100 \\\\\n",
    "\\quad 2x_2+x_3+2x_5+x_6 \\geqslant 150\n",
    "\\end{cases}\n",
    "$ "
   ]
  },
  {
   "cell_type": "code",
   "execution_count": 1,
   "metadata": {},
   "outputs": [
    {
     "name": "stdout",
     "output_type": "stream",
     "text": [
      "Requirement already satisfied: pulp in c:\\users\\pc\\appdata\\local\\programs\\python\\python312\\lib\\site-packages (2.8.0)\n",
      "Note: you may need to restart the kernel to use updated packages.\n"
     ]
    }
   ],
   "source": [
    "# Cài đặt thư viện PuLP\n",
    "%pip install pulp"
   ]
  },
  {
   "cell_type": "code",
   "execution_count": 2,
   "metadata": {},
   "outputs": [
    {
     "name": "stdout",
     "output_type": "stream",
     "text": [
      "Phương án tối ưu:\n",
      "Cắt theo cách 1: 0.0 lần\n",
      "Cắt theo cách 2: 2.0 lần\n",
      "Cắt theo cách 3: 0.0 lần\n",
      "Cắt theo cách 4: 9.0 lần\n",
      "Cắt theo cách 5: 73.0 lần\n",
      "Cắt theo cách 6: 0.0 lần\n",
      "Chi phí tối thiểu: 668.0 m\n",
      "Trong đó:\n",
      "Số thanh 6m sử dụng:  2.0\n",
      "Số thanh 8m sử dụng:  82.0\n"
     ]
    }
   ],
   "source": [
    "from pulp import *\n",
    "\n",
    "# Tạo bài toán\n",
    "problem = LpProblem(\"GiaCongCotThep\", LpMinimize)\n",
    "\n",
    "# Khai báo biến\n",
    "# Số biến là 6\n",
    "items = range(6)  \n",
    "# Mỗi biến là số lần thực hiện của mỗi cách cắt thép, giá trị >= 0, kiểu số nguyên\n",
    "variables = LpVariable.dicts(name=\"WayToCut\", indices=items, lowBound=0, cat=LpInteger) \n",
    "\n",
    "# Hàm mục tiêu: Tối thiểu hóa tổng chi phí gia công\n",
    "problem += lpSum(variables[i] * [6, 6, 6, 8, 8, 8][i] for i in items)\n",
    "\n",
    "\n",
    "# Ràng buộc: 100 đoạn thép 2,4m\n",
    "problem += lpSum(variables[i] * [2, 0, 1, 3, 1, 2][i] for i in items) >= 100\n",
    "\n",
    "# Ràng buộc: 150 đoạn thép 2,8m\n",
    "problem += lpSum(variables[i] * [0, 2, 1, 0, 2, 1][i] for i in items) >= 150\n",
    "\n",
    "# Giải bài toán\n",
    "problem.solve()\n",
    "\n",
    "# In phương án tối ưu\n",
    "print(\"Phương án tối ưu:\")\n",
    "for i in items:\n",
    "    print(f\"Cắt theo cách {i + 1}: {variables[i].value()} lần\")\n",
    "\n",
    "# In chi phí tối thiểu\n",
    "print(\"Chi phí tối thiểu:\", value(problem.objective), \"m\")\n",
    "print(\"Trong đó:\")\n",
    "print(\"Số thanh 6m sử dụng: \", variables[0].value() + variables[1].value() + variables[2].value())\n",
    "print(\"Số thanh 8m sử dụng: \", variables[3].value() + variables[4].value() + variables[5].value())"
   ]
  }
 ],
 "metadata": {
  "kernelspec": {
   "display_name": "Python 3",
   "language": "python",
   "name": "python3"
  },
  "language_info": {
   "codemirror_mode": {
    "name": "ipython",
    "version": 3
   },
   "file_extension": ".py",
   "mimetype": "text/x-python",
   "name": "python",
   "nbconvert_exporter": "python",
   "pygments_lexer": "ipython3",
   "version": "3.12.0"
  }
 },
 "nbformat": 4,
 "nbformat_minor": 2
}
